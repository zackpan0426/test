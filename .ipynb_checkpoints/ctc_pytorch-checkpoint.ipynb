{
 "cells": [
  {
   "cell_type": "markdown",
   "metadata": {},
   "source": [
    "# Packages"
   ]
  },
  {
   "cell_type": "markdown",
   "metadata": {},
   "source": [
    "Use \"captcha\" to generate data"
   ]
  },
  {
   "cell_type": "code",
   "execution_count": 21,
   "metadata": {
    "ExecuteTime": {
     "end_time": "2019-06-18T11:19:45.698786Z",
     "start_time": "2019-06-18T11:19:45.381128Z"
    }
   },
   "outputs": [
    {
     "name": "stdout",
     "output_type": "stream",
     "text": [
      "alphabets: -0123456789ABCDEFGHIJKLMNOPQRSTUVWXYZabcdefghijklmnopqrstuvwxyz \n",
      "n classes: 63 \n",
      "width: 192 \n",
      "height: 64 \n",
      "length: 4\n"
     ]
    }
   ],
   "source": [
    "import torch\n",
    "import torch.nn as nn\n",
    "import torch.nn.functional as F\n",
    "from torch.utils.data import Dataset, DataLoader\n",
    "from torchvision.transforms.functional import to_tensor, to_pil_image\n",
    "\n",
    "from captcha.image import ImageCaptcha\n",
    "from tqdm import tqdm\n",
    "import random\n",
    "import numpy as np\n",
    "from collections import OrderedDict\n",
    "\n",
    "import string\n",
    "characters = '-' + string.digits + string.ascii_uppercase + string.ascii_lowercase\n",
    "width, height, n_len, n_classes = 192, 64, 4, len(characters)\n",
    "n_input_length = 12\n",
    "PATH = 'ctc.pth'\n",
    "\n",
    "print(\"alphabets:\",characters, \n",
    "      \"\\nn classes:\",n_classes,\n",
    "      \"\\nwidth:\", width,\n",
    "      \"\\nheight:\",height,\n",
    "      \"\\nlength:\", n_len)"
   ]
  },
  {
   "cell_type": "markdown",
   "metadata": {},
   "source": [
    "# Dataset"
   ]
  },
  {
   "cell_type": "code",
   "execution_count": 22,
   "metadata": {
    "ExecuteTime": {
     "end_time": "2019-06-18T11:19:45.704071Z",
     "start_time": "2019-06-18T11:19:45.700019Z"
    }
   },
   "outputs": [],
   "source": [
    "class CaptchaDataset(Dataset):\n",
    "    def __init__(self, characters, length, width, height, input_length, label_length):\n",
    "        super(CaptchaDataset, self).__init__()\n",
    "        self.characters = characters\n",
    "        self.length = length\n",
    "        self.width = width\n",
    "        self.height = height\n",
    "        self.input_length = input_length\n",
    "        self.label_length = label_length\n",
    "        self.n_class = len(characters)\n",
    "        self.generator = ImageCaptcha(width=width, height=height)\n",
    "\n",
    "    def __len__(self):\n",
    "        return self.length\n",
    "    \n",
    "    def __getitem__(self, index):\n",
    "        random_str = ''.join([random.choice(self.characters[1:]) for j in range(self.label_length)])\n",
    "        image = to_tensor(self.generator.generate_image(random_str))\n",
    "        target = torch.tensor([self.characters.find(x) for x in random_str], dtype=torch.long)\n",
    "        input_length = torch.full(size=(1, ), fill_value=self.input_length, dtype=torch.long)\n",
    "        target_length = torch.full(size=(1, ), fill_value=self.label_length, dtype=torch.long)\n",
    "        return image, target, input_length, target_length"
   ]
  },
  {
   "cell_type": "code",
   "execution_count": 23,
   "metadata": {
    "ExecuteTime": {
     "end_time": "2019-06-18T11:19:45.733929Z",
     "start_time": "2019-06-18T11:19:45.705130Z"
    }
   },
   "outputs": [
    {
     "name": "stdout",
     "output_type": "stream",
     "text": [
      "O8ki tensor([12]) tensor([4])\n"
     ]
    },
    {
     "data": {
      "image/png": "[encoded data removed]",
      "text/plain": [
       "<PIL.Image.Image image mode=RGB size=192x64 at 0x7F018ACD3B00>"
      ]
     },
     "execution_count": 23,
     "metadata": {},
     "output_type": "execute_result"
    }
   ],
   "source": [
    "dataset = CaptchaDataset(characters, 1, width, height, n_input_length, n_len)\n",
    "image, target, input_length, label_length = dataset[0]\n",
    "print(''.join([characters[x] for x in target]), input_length, label_length)\n",
    "to_pil_image(image)"
   ]
  },
  {
   "cell_type": "code",
   "execution_count": 26,
   "metadata": {
    "ExecuteTime": {
     "end_time": "2019-06-18T11:19:45.737300Z",
     "start_time": "2019-06-18T11:19:45.735033Z"
    }
   },
   "outputs": [],
   "source": [
    "batch_size = 256\n",
    "train_set = CaptchaDataset(characters, 1000 * batch_size, width, height, n_input_length, n_len)\n",
    "valid_set = CaptchaDataset(characters, 100 * batch_size, width, height, n_input_length, n_len)\n",
    "train_loader = DataLoader(train_set, batch_size=batch_size, num_workers=4)\n",
    "valid_loader = DataLoader(valid_set, batch_size=batch_size, num_workers=4)"
   ]
  },
  {
   "cell_type": "code",
   "execution_count": 27,
   "metadata": {},
   "outputs": [],
   "source": [
    "# ! cat /proc/cpuinfo"
   ]
  },
  {
   "cell_type": "markdown",
   "metadata": {},
   "source": [
    "# Model"
   ]
  },
  {
   "cell_type": "code",
   "execution_count": 28,
   "metadata": {
    "ExecuteTime": {
     "end_time": "2019-06-18T11:19:45.744324Z",
     "start_time": "2019-06-18T11:19:45.738366Z"
    }
   },
   "outputs": [],
   "source": [
    "class Model(nn.Module):\n",
    "    def __init__(self, n_classes, input_shape=(3, 64, 128)):\n",
    "        super(Model, self).__init__()\n",
    "        self.input_shape = input_shape\n",
    "        channels = [32, 64, 128, 256, 256]\n",
    "        layers = [2, 2, 2, 2, 2]\n",
    "        kernels = [3, 3, 3, 3, 3]\n",
    "        pools = [2, 2, 2, 2, (2, 1)]\n",
    "        modules = OrderedDict()\n",
    "        \n",
    "        def cba(name, in_channels, out_channels, kernel_size):\n",
    "            modules[f'conv{name}'] = nn.Conv2d(in_channels, out_channels, kernel_size,\n",
    "                                               padding=(1, 1) if kernel_size == 3 else 0)\n",
    "            modules[f'bn{name}'] = nn.BatchNorm2d(out_channels)\n",
    "            modules[f'relu{name}'] = nn.ReLU(inplace=True)\n",
    "        \n",
    "        last_channel = 3\n",
    "        for block, (n_channel, n_layer, n_kernel, k_pool) in enumerate(zip(channels, layers, kernels, pools)):\n",
    "            for layer in range(1, n_layer + 1):\n",
    "                cba(f'{block+1}{layer}', last_channel, n_channel, n_kernel)\n",
    "                last_channel = n_channel\n",
    "            modules[f'pool{block + 1}'] = nn.MaxPool2d(k_pool)\n",
    "        modules[f'dropout'] = nn.Dropout(0.25, inplace=True)\n",
    "        \n",
    "        self.cnn = nn.Sequential(modules)\n",
    "        self.lstm = nn.LSTM(input_size=self.infer_features(), hidden_size=128, num_layers=2, bidirectional=True)\n",
    "        self.fc = nn.Linear(in_features=256, out_features=n_classes)\n",
    "    \n",
    "    def infer_features(self):\n",
    "        x = torch.zeros((1,)+self.input_shape)\n",
    "        x = self.cnn(x)\n",
    "        x = x.reshape(x.shape[0], -1, x.shape[-1])\n",
    "        return x.shape[1]\n",
    "\n",
    "    def forward(self, x):\n",
    "        x = self.cnn(x)\n",
    "        x = x.reshape(x.shape[0], -1, x.shape[-1])\n",
    "        x = x.permute(2, 0, 1)\n",
    "        x, _ = self.lstm(x)\n",
    "        x = self.fc(x)\n",
    "        return x"
   ]
  },
  {
   "cell_type": "code",
   "execution_count": 29,
   "metadata": {
    "ExecuteTime": {
     "end_time": "2019-06-18T11:19:46.033594Z",
     "start_time": "2019-06-18T11:19:45.745300Z"
    }
   },
   "outputs": [
    {
     "data": {
      "text/plain": [
       "torch.Size([12, 32, 63])"
      ]
     },
     "execution_count": 29,
     "metadata": {},
     "output_type": "execute_result"
    }
   ],
   "source": [
    "model = Model(n_classes, input_shape=(3, height, width))\n",
    "inputs = torch.zeros((32, 3, height, width))\n",
    "outputs = model(inputs)\n",
    "outputs.shape"
   ]
  },
  {
   "cell_type": "code",
   "execution_count": 34,
   "metadata": {},
   "outputs": [
    {
     "data": {
      "text/plain": [
       "Model(\n",
       "  (cnn): Sequential(\n",
       "    (conv11): Conv2d(3, 32, kernel_size=(3, 3), stride=(1, 1), padding=(1, 1))\n",
       "    (bn11): BatchNorm2d(32, eps=1e-05, momentum=0.1, affine=True, track_running_stats=True)\n",
       "    (relu11): ReLU(inplace)\n",
       "    (conv12): Conv2d(32, 32, kernel_size=(3, 3), stride=(1, 1), padding=(1, 1))\n",
       "    (bn12): BatchNorm2d(32, eps=1e-05, momentum=0.1, affine=True, track_running_stats=True)\n",
       "    (relu12): ReLU(inplace)\n",
       "    (pool1): MaxPool2d(kernel_size=2, stride=2, padding=0, dilation=1, ceil_mode=False)\n",
       "    (conv21): Conv2d(32, 64, kernel_size=(3, 3), stride=(1, 1), padding=(1, 1))\n",
       "    (bn21): BatchNorm2d(64, eps=1e-05, momentum=0.1, affine=True, track_running_stats=True)\n",
       "    (relu21): ReLU(inplace)\n",
       "    (conv22): Conv2d(64, 64, kernel_size=(3, 3), stride=(1, 1), padding=(1, 1))\n",
       "    (bn22): BatchNorm2d(64, eps=1e-05, momentum=0.1, affine=True, track_running_stats=True)\n",
       "    (relu22): ReLU(inplace)\n",
       "    (pool2): MaxPool2d(kernel_size=2, stride=2, padding=0, dilation=1, ceil_mode=False)\n",
       "    (conv31): Conv2d(64, 128, kernel_size=(3, 3), stride=(1, 1), padding=(1, 1))\n",
       "    (bn31): BatchNorm2d(128, eps=1e-05, momentum=0.1, affine=True, track_running_stats=True)\n",
       "    (relu31): ReLU(inplace)\n",
       "    (conv32): Conv2d(128, 128, kernel_size=(3, 3), stride=(1, 1), padding=(1, 1))\n",
       "    (bn32): BatchNorm2d(128, eps=1e-05, momentum=0.1, affine=True, track_running_stats=True)\n",
       "    (relu32): ReLU(inplace)\n",
       "    (pool3): MaxPool2d(kernel_size=2, stride=2, padding=0, dilation=1, ceil_mode=False)\n",
       "    (conv41): Conv2d(128, 256, kernel_size=(3, 3), stride=(1, 1), padding=(1, 1))\n",
       "    (bn41): BatchNorm2d(256, eps=1e-05, momentum=0.1, affine=True, track_running_stats=True)\n",
       "    (relu41): ReLU(inplace)\n",
       "    (conv42): Conv2d(256, 256, kernel_size=(3, 3), stride=(1, 1), padding=(1, 1))\n",
       "    (bn42): BatchNorm2d(256, eps=1e-05, momentum=0.1, affine=True, track_running_stats=True)\n",
       "    (relu42): ReLU(inplace)\n",
       "    (pool4): MaxPool2d(kernel_size=2, stride=2, padding=0, dilation=1, ceil_mode=False)\n",
       "    (conv51): Conv2d(256, 256, kernel_size=(3, 3), stride=(1, 1), padding=(1, 1))\n",
       "    (bn51): BatchNorm2d(256, eps=1e-05, momentum=0.1, affine=True, track_running_stats=True)\n",
       "    (relu51): ReLU(inplace)\n",
       "    (conv52): Conv2d(256, 256, kernel_size=(3, 3), stride=(1, 1), padding=(1, 1))\n",
       "    (bn52): BatchNorm2d(256, eps=1e-05, momentum=0.1, affine=True, track_running_stats=True)\n",
       "    (relu52): ReLU(inplace)\n",
       "    (pool5): MaxPool2d(kernel_size=(2, 1), stride=(2, 1), padding=0, dilation=1, ceil_mode=False)\n",
       "    (dropout): Dropout(p=0.25, inplace)\n",
       "  )\n",
       "  (lstm): LSTM(512, 128, num_layers=2, bidirectional=True)\n",
       "  (fc): Linear(in_features=256, out_features=37, bias=True)\n",
       ")"
      ]
     },
     "execution_count": 34,
     "metadata": {},
     "output_type": "execute_result"
    }
   ],
   "source": [
    "# model = Model(n_classes, input_shape=(3, height, width))\n",
    "model = torch.load(PATH)\n",
    "model = model.cuda()\n",
    "model"
   ]
  },
  {
   "cell_type": "markdown",
   "metadata": {},
   "source": [
    "# Decode Func"
   ]
  },
  {
   "cell_type": "code",
   "execution_count": 35,
   "metadata": {
    "ExecuteTime": {
     "end_time": "2019-06-18T11:19:48.040043Z",
     "start_time": "2019-06-18T11:19:48.036404Z"
    }
   },
   "outputs": [],
   "source": [
    "def decode(sequence):\n",
    "    a = ''.join([characters[x] for x in sequence])\n",
    "    s = ''.join([x for j, x in enumerate(a[:-1]) if x != characters[0] and x != a[j+1]])\n",
    "    if len(s) == 0:\n",
    "        return ''\n",
    "    if a[-1] != characters[0] and s[-1] != a[-1]:\n",
    "        s += a[-1]\n",
    "    return s\n",
    "\n",
    "def decode_target(sequence):\n",
    "    return ''.join([characters[x] for x in sequence]).replace(' ', '')\n",
    "\n",
    "def calc_acc(target, output):\n",
    "    output_argmax = output.detach().permute(1, 0, 2).argmax(dim=-1)\n",
    "    target = target.cpu().numpy()\n",
    "    output_argmax = output_argmax.cpu().numpy()\n",
    "    a = np.array([decode_target(true) == decode(pred) for true, pred in zip(target, output_argmax)])\n",
    "    return a.mean()"
   ]
  },
  {
   "cell_type": "markdown",
   "metadata": {},
   "source": [
    "# Train"
   ]
  },
  {
   "cell_type": "code",
   "execution_count": 36,
   "metadata": {
    "ExecuteTime": {
     "end_time": "2019-06-18T11:19:48.052899Z",
     "start_time": "2019-06-18T11:19:48.041088Z"
    }
   },
   "outputs": [],
   "source": [
    "def train(model, optimizer, epoch, dataloader):\n",
    "    model.train()\n",
    "    loss_mean = 0\n",
    "    acc_mean = 0\n",
    "    with tqdm(dataloader) as pbar:\n",
    "        for batch_index, (data, target, input_lengths, target_lengths) in enumerate(pbar):\n",
    "            data, target = data.cuda(), target.cuda()\n",
    "            \n",
    "            optimizer.zero_grad()\n",
    "            output = model(data)\n",
    "            \n",
    "            output_log_softmax = F.log_softmax(output, dim=-1)\n",
    "            loss = F.ctc_loss(output_log_softmax, target, input_lengths, target_lengths)\n",
    "            \n",
    "            loss.backward()\n",
    "            optimizer.step()\n",
    "\n",
    "            loss = loss.item()\n",
    "            acc = calc_acc(target, output)\n",
    "            \n",
    "            if batch_index == 0:\n",
    "                loss_mean = loss\n",
    "                acc_mean = acc\n",
    "            \n",
    "            loss_mean = 0.1 * loss + 0.9 * loss_mean\n",
    "            acc_mean = 0.1 * acc + 0.9 * acc_mean\n",
    "            \n",
    "            pbar.set_description(f'Epoch: {epoch} Loss: {loss_mean:.4f} Acc: {acc_mean:.4f} ')\n",
    "\n",
    "def valid(model, optimizer, epoch, dataloader):\n",
    "    model.eval()\n",
    "    with tqdm(dataloader) as pbar, torch.no_grad():\n",
    "        loss_sum = 0\n",
    "        acc_sum = 0\n",
    "        for batch_index, (data, target, input_lengths, target_lengths) in enumerate(pbar):\n",
    "            data, target = data.cuda(), target.cuda()\n",
    "            \n",
    "            output = model(data)\n",
    "            output_log_softmax = F.log_softmax(output, dim=-1)\n",
    "            loss = F.ctc_loss(output_log_softmax, target, input_lengths, target_lengths)\n",
    "            \n",
    "            loss = loss.item()\n",
    "            acc = calc_acc(target, output)\n",
    "            \n",
    "            loss_sum += loss\n",
    "            acc_sum += acc\n",
    "            \n",
    "            loss_mean = loss_sum / (batch_index + 1)\n",
    "            acc_mean = acc_sum / (batch_index + 1)\n",
    "            \n",
    "            pbar.set_description(f'Test : {epoch} Loss: {loss_mean:.4f} Acc: {acc_mean:.4f} ')"
   ]
  },
  {
   "cell_type": "code",
   "execution_count": 37,
   "metadata": {},
   "outputs": [
    {
     "name": "stderr",
     "output_type": "stream",
     "text": [
      "Epoch: 1 Loss: 1.8077 Acc: 0.0998 :  23%|██▎       | 233/1000 [03:05<10:07,  1.26it/s]Traceback (most recent call last):\n",
      "  File \"/home/ubuntu/anaconda3/envs/pytorch_p36/lib/python3.6/multiprocessing/queues.py\", line 240, in _feed\n",
      "    send_bytes(obj)\n",
      "  File \"/home/ubuntu/anaconda3/envs/pytorch_p36/lib/python3.6/multiprocessing/connection.py\", line 200, in send_bytes\n",
      "    self._send_bytes(m[offset:offset + size])\n",
      "  File \"/home/ubuntu/anaconda3/envs/pytorch_p36/lib/python3.6/multiprocessing/connection.py\", line 404, in _send_bytes\n",
      "    self._send(header + buf)\n",
      "  File \"/home/ubuntu/anaconda3/envs/pytorch_p36/lib/python3.6/multiprocessing/connection.py\", line 368, in _send\n",
      "    n = write(self._handle, buf)\n",
      "BrokenPipeError: [Errno 32] Broken pipe\n",
      "Traceback (most recent call last):\n",
      "  File \"/home/ubuntu/anaconda3/envs/pytorch_p36/lib/python3.6/multiprocessing/queues.py\", line 240, in _feed\n",
      "    send_bytes(obj)\n",
      "  File \"/home/ubuntu/anaconda3/envs/pytorch_p36/lib/python3.6/multiprocessing/connection.py\", line 200, in send_bytes\n",
      "    self._send_bytes(m[offset:offset + size])\n",
      "  File \"/home/ubuntu/anaconda3/envs/pytorch_p36/lib/python3.6/multiprocessing/connection.py\", line 404, in _send_bytes\n",
      "    self._send(header + buf)\n",
      "  File \"/home/ubuntu/anaconda3/envs/pytorch_p36/lib/python3.6/multiprocessing/connection.py\", line 368, in _send\n",
      "    n = write(self._handle, buf)\n",
      "BrokenPipeError: [Errno 32] Broken pipe\n",
      "\n",
      "Traceback (most recent call last):\n",
      "  File \"/home/ubuntu/anaconda3/envs/pytorch_p36/lib/python3.6/multiprocessing/queues.py\", line 240, in _feed\n",
      "    send_bytes(obj)\n",
      "  File \"/home/ubuntu/anaconda3/envs/pytorch_p36/lib/python3.6/multiprocessing/connection.py\", line 200, in send_bytes\n",
      "    self._send_bytes(m[offset:offset + size])\n",
      "  File \"/home/ubuntu/anaconda3/envs/pytorch_p36/lib/python3.6/multiprocessing/connection.py\", line 404, in _send_bytes\n",
      "    self._send(header + buf)\n",
      "  File \"/home/ubuntu/anaconda3/envs/pytorch_p36/lib/python3.6/multiprocessing/connection.py\", line 368, in _send\n",
      "    n = write(self._handle, buf)\n",
      "BrokenPipeError: [Errno 32] Broken pipe\n",
      "Traceback (most recent call last):\n",
      "  File \"/home/ubuntu/anaconda3/envs/pytorch_p36/lib/python3.6/multiprocessing/queues.py\", line 240, in _feed\n",
      "    send_bytes(obj)\n"
     ]
    },
    {
     "ename": "KeyboardInterrupt",
     "evalue": "",
     "output_type": "error",
     "traceback": [
      "\u001b[0;31m---------------------------------------------------------------------------\u001b[0m",
      "\u001b[0;31mKeyboardInterrupt\u001b[0m                         Traceback (most recent call last)",
      "\u001b[0;32m<ipython-input-37-71307610312e>\u001b[0m in \u001b[0;36m<module>\u001b[0;34m()\u001b[0m\n\u001b[1;32m      2\u001b[0m \u001b[0mepochs\u001b[0m \u001b[0;34m=\u001b[0m \u001b[0;36m10\u001b[0m\u001b[0;34m\u001b[0m\u001b[0m\n\u001b[1;32m      3\u001b[0m \u001b[0;32mfor\u001b[0m \u001b[0mepoch\u001b[0m \u001b[0;32min\u001b[0m \u001b[0mrange\u001b[0m\u001b[0;34m(\u001b[0m\u001b[0;36m1\u001b[0m\u001b[0;34m,\u001b[0m \u001b[0mepochs\u001b[0m \u001b[0;34m+\u001b[0m \u001b[0;36m1\u001b[0m\u001b[0;34m)\u001b[0m\u001b[0;34m:\u001b[0m\u001b[0;34m\u001b[0m\u001b[0m\n\u001b[0;32m----> 4\u001b[0;31m     \u001b[0mtrain\u001b[0m\u001b[0;34m(\u001b[0m\u001b[0mmodel\u001b[0m\u001b[0;34m,\u001b[0m \u001b[0moptimizer\u001b[0m\u001b[0;34m,\u001b[0m \u001b[0mepoch\u001b[0m\u001b[0;34m,\u001b[0m \u001b[0mtrain_loader\u001b[0m\u001b[0;34m)\u001b[0m\u001b[0;34m\u001b[0m\u001b[0m\n\u001b[0m\u001b[1;32m      5\u001b[0m     \u001b[0mvalid\u001b[0m\u001b[0;34m(\u001b[0m\u001b[0mmodel\u001b[0m\u001b[0;34m,\u001b[0m \u001b[0moptimizer\u001b[0m\u001b[0;34m,\u001b[0m \u001b[0mepoch\u001b[0m\u001b[0;34m,\u001b[0m \u001b[0mvalid_loader\u001b[0m\u001b[0;34m)\u001b[0m\u001b[0;34m\u001b[0m\u001b[0m\n",
      "\u001b[0;32m<ipython-input-36-4dcd70a86e84>\u001b[0m in \u001b[0;36mtrain\u001b[0;34m(model, optimizer, epoch, dataloader)\u001b[0m\n\u001b[1;32m     16\u001b[0m             \u001b[0moptimizer\u001b[0m\u001b[0;34m.\u001b[0m\u001b[0mstep\u001b[0m\u001b[0;34m(\u001b[0m\u001b[0;34m)\u001b[0m\u001b[0;34m\u001b[0m\u001b[0m\n\u001b[1;32m     17\u001b[0m \u001b[0;34m\u001b[0m\u001b[0m\n\u001b[0;32m---> 18\u001b[0;31m             \u001b[0mloss\u001b[0m \u001b[0;34m=\u001b[0m \u001b[0mloss\u001b[0m\u001b[0;34m.\u001b[0m\u001b[0mitem\u001b[0m\u001b[0;34m(\u001b[0m\u001b[0;34m)\u001b[0m\u001b[0;34m\u001b[0m\u001b[0m\n\u001b[0m\u001b[1;32m     19\u001b[0m             \u001b[0macc\u001b[0m \u001b[0;34m=\u001b[0m \u001b[0mcalc_acc\u001b[0m\u001b[0;34m(\u001b[0m\u001b[0mtarget\u001b[0m\u001b[0;34m,\u001b[0m \u001b[0moutput\u001b[0m\u001b[0;34m)\u001b[0m\u001b[0;34m\u001b[0m\u001b[0m\n\u001b[1;32m     20\u001b[0m \u001b[0;34m\u001b[0m\u001b[0m\n",
      "\u001b[0;31mKeyboardInterrupt\u001b[0m: "
     ]
    },
    {
     "name": "stderr",
     "output_type": "stream",
     "text": [
      "  File \"/home/ubuntu/anaconda3/envs/pytorch_p36/lib/python3.6/multiprocessing/connection.py\", line 200, in send_bytes\n",
      "    self._send_bytes(m[offset:offset + size])\n",
      "  File \"/home/ubuntu/anaconda3/envs/pytorch_p36/lib/python3.6/multiprocessing/connection.py\", line 404, in _send_bytes\n",
      "    self._send(header + buf)\n",
      "  File \"/home/ubuntu/anaconda3/envs/pytorch_p36/lib/python3.6/multiprocessing/connection.py\", line 368, in _send\n",
      "    n = write(self._handle, buf)\n",
      "BrokenPipeError: [Errno 32] Broken pipe\n"
     ]
    }
   ],
   "source": [
    "optimizer = torch.optim.Adam(model.parameters(), 1e-3, amsgrad=True)\n",
    "epochs = 10\n",
    "for epoch in range(1, epochs + 1):\n",
    "    train(model, optimizer, epoch, train_loader)\n",
    "    valid(model, optimizer, epoch, valid_loader)"
   ]
  },
  {
   "cell_type": "code",
   "execution_count": 10,
   "metadata": {
    "ExecuteTime": {
     "end_time": "2019-06-18T12:18:50.675432Z",
     "start_time": "2019-06-18T11:19:48.053976Z"
    }
   },
   "outputs": [
    {
     "name": "stderr",
     "output_type": "stream",
     "text": [
      "Epoch: 1 Loss: 3.7244 Acc: 0.0000 : 100%|██████████| 1000/1000 [01:52<00:00,  8.93it/s]\n",
      "Test : 1 Loss: 3.7294 Acc: 0.0000 : 100%|██████████| 100/100 [00:05<00:00, 17.52it/s]\n",
      "Epoch: 2 Loss: 3.7359 Acc: 0.0000 : 100%|██████████| 1000/1000 [01:52<00:00,  9.01it/s]\n",
      "Test : 2 Loss: 3.7290 Acc: 0.0000 : 100%|██████████| 100/100 [00:05<00:00, 17.65it/s]\n",
      "Epoch: 3 Loss: 3.7199 Acc: 0.0000 : 100%|██████████| 1000/1000 [01:52<00:00,  9.02it/s]\n",
      "Test : 3 Loss: 3.7271 Acc: 0.0000 : 100%|██████████| 100/100 [00:05<00:00, 16.77it/s]\n",
      "Epoch: 4 Loss: 2.3948 Acc: 0.0038 : 100%|██████████| 1000/1000 [01:52<00:00,  8.89it/s]\n",
      "Test : 4 Loss: 2.8448 Acc: 0.0015 : 100%|██████████| 100/100 [00:05<00:00, 16.95it/s]\n",
      "Epoch: 5 Loss: 0.1477 Acc: 0.8431 : 100%|██████████| 1000/1000 [01:52<00:00,  8.92it/s]\n",
      "Test : 5 Loss: 0.1622 Acc: 0.8145 : 100%|██████████| 100/100 [00:05<00:00, 17.31it/s]\n",
      "Epoch: 6 Loss: 0.0860 Acc: 0.8926 : 100%|██████████| 1000/1000 [01:52<00:00,  8.94it/s]\n",
      "Test : 6 Loss: 0.1019 Acc: 0.8745 : 100%|██████████| 100/100 [00:05<00:00, 17.48it/s]\n",
      "Epoch: 7 Loss: 0.0414 Acc: 0.9436 : 100%|██████████| 1000/1000 [01:52<00:00,  8.91it/s]\n",
      "Test : 7 Loss: 0.1066 Acc: 0.8970 : 100%|██████████| 100/100 [00:05<00:00, 25.14it/s]\n",
      "Epoch: 8 Loss: 0.0317 Acc: 0.9527 : 100%|██████████| 1000/1000 [01:52<00:00,  9.19it/s]\n",
      "Test : 8 Loss: 0.2585 Acc: 0.8132 : 100%|██████████| 100/100 [00:05<00:00, 17.50it/s]\n",
      "Epoch: 9 Loss: 0.0282 Acc: 0.9620 : 100%|██████████| 1000/1000 [01:52<00:00,  8.85it/s]\n",
      "Test : 9 Loss: 0.0775 Acc: 0.9416 : 100%|██████████| 100/100 [00:05<00:00, 17.50it/s]\n",
      "Epoch: 10 Loss: 0.0235 Acc: 0.9626 : 100%|██████████| 1000/1000 [01:52<00:00,  9.02it/s]\n",
      "Test : 10 Loss: 0.0321 Acc: 0.9519 : 100%|██████████| 100/100 [00:05<00:00, 17.20it/s]\n",
      "Epoch: 11 Loss: 0.0210 Acc: 0.9742 : 100%|██████████| 1000/1000 [01:52<00:00,  9.00it/s]\n",
      "Test : 11 Loss: 0.0268 Acc: 0.9686 : 100%|██████████| 100/100 [00:05<00:00, 17.27it/s]\n",
      "Epoch: 12 Loss: 0.0196 Acc: 0.9734 : 100%|██████████| 1000/1000 [01:52<00:00,  8.92it/s]\n",
      "Test : 12 Loss: 0.0386 Acc: 0.9555 : 100%|██████████| 100/100 [00:05<00:00, 26.65it/s]\n",
      "Epoch: 13 Loss: 0.0207 Acc: 0.9676 : 100%|██████████| 1000/1000 [01:52<00:00,  8.80it/s]\n",
      "Test : 13 Loss: 0.0269 Acc: 0.9647 : 100%|██████████| 100/100 [00:05<00:00, 23.93it/s]\n",
      "Epoch: 14 Loss: 0.0195 Acc: 0.9734 : 100%|██████████| 1000/1000 [01:52<00:00,  8.98it/s]\n",
      "Test : 14 Loss: 0.0163 Acc: 0.9767 : 100%|██████████| 100/100 [00:05<00:00, 17.39it/s]\n",
      "Epoch: 15 Loss: 0.0181 Acc: 0.9751 : 100%|██████████| 1000/1000 [01:52<00:00,  9.02it/s]\n",
      "Test : 15 Loss: 0.0242 Acc: 0.9669 : 100%|██████████| 100/100 [00:05<00:00, 17.34it/s]\n",
      "Epoch: 16 Loss: 0.0126 Acc: 0.9840 : 100%|██████████| 1000/1000 [01:52<00:00,  9.02it/s]\n",
      "Test : 16 Loss: 0.0298 Acc: 0.9570 : 100%|██████████| 100/100 [00:05<00:00, 24.91it/s]\n",
      "Epoch: 17 Loss: 0.0120 Acc: 0.9833 : 100%|██████████| 1000/1000 [01:52<00:00,  8.85it/s]\n",
      "Test : 17 Loss: 0.0185 Acc: 0.9722 : 100%|██████████| 100/100 [00:05<00:00, 17.38it/s]\n",
      "Epoch: 18 Loss: 0.0139 Acc: 0.9814 : 100%|██████████| 1000/1000 [01:52<00:00,  8.89it/s]\n",
      "Test : 18 Loss: 0.0138 Acc: 0.9809 : 100%|██████████| 100/100 [00:05<00:00, 25.59it/s]\n",
      "Epoch: 19 Loss: 0.0138 Acc: 0.9779 : 100%|██████████| 1000/1000 [01:52<00:00,  9.01it/s]\n",
      "Test : 19 Loss: 0.3607 Acc: 0.7903 : 100%|██████████| 100/100 [00:05<00:00, 17.49it/s]\n",
      "Epoch: 20 Loss: 0.0128 Acc: 0.9799 : 100%|██████████| 1000/1000 [01:52<00:00,  8.87it/s]\n",
      "Test : 20 Loss: 0.2395 Acc: 0.8163 : 100%|██████████| 100/100 [00:05<00:00, 25.22it/s]\n",
      "Epoch: 21 Loss: 0.0092 Acc: 0.9887 : 100%|██████████| 1000/1000 [01:52<00:00,  8.93it/s]\n",
      "Test : 21 Loss: 0.0358 Acc: 0.9598 : 100%|██████████| 100/100 [00:05<00:00, 17.50it/s]\n",
      "Epoch: 22 Loss: 0.0116 Acc: 0.9841 : 100%|██████████| 1000/1000 [01:52<00:00,  8.92it/s]\n",
      "Test : 22 Loss: 0.4531 Acc: 0.5920 : 100%|██████████| 100/100 [00:05<00:00, 17.23it/s]\n",
      "Epoch: 23 Loss: 0.0116 Acc: 0.9846 : 100%|██████████| 1000/1000 [01:52<00:00,  8.96it/s]\n",
      "Test : 23 Loss: 0.0089 Acc: 0.9878 : 100%|██████████| 100/100 [00:05<00:00, 17.51it/s]\n",
      "Epoch: 24 Loss: 0.0079 Acc: 0.9884 : 100%|██████████| 1000/1000 [01:52<00:00,  8.94it/s]\n",
      "Test : 24 Loss: 0.0093 Acc: 0.9871 : 100%|██████████| 100/100 [00:05<00:00, 17.42it/s]\n",
      "Epoch: 25 Loss: 0.0078 Acc: 0.9904 : 100%|██████████| 1000/1000 [01:52<00:00,  8.74it/s]\n",
      "Test : 25 Loss: 0.0154 Acc: 0.9775 : 100%|██████████| 100/100 [00:05<00:00, 17.39it/s]\n",
      "Epoch: 26 Loss: 0.0086 Acc: 0.9896 : 100%|██████████| 1000/1000 [01:52<00:00,  8.98it/s]\n",
      "Test : 26 Loss: 0.0803 Acc: 0.9563 : 100%|██████████| 100/100 [00:05<00:00, 17.20it/s]\n",
      "Epoch: 27 Loss: 0.0104 Acc: 0.9862 : 100%|██████████| 1000/1000 [01:52<00:00,  8.87it/s]\n",
      "Test : 27 Loss: 0.0557 Acc: 0.9373 : 100%|██████████| 100/100 [00:05<00:00, 17.57it/s]\n",
      "Epoch: 28 Loss: 0.0077 Acc: 0.9910 : 100%|██████████| 1000/1000 [01:52<00:00,  8.97it/s]\n",
      "Test : 28 Loss: 0.0081 Acc: 0.9905 : 100%|██████████| 100/100 [00:05<00:00, 26.49it/s]\n",
      "Epoch: 29 Loss: 0.0079 Acc: 0.9912 : 100%|██████████| 1000/1000 [01:52<00:00,  9.20it/s]\n",
      "Test : 29 Loss: 0.0717 Acc: 0.9101 : 100%|██████████| 100/100 [00:05<00:00, 17.47it/s]\n",
      "Epoch: 30 Loss: 0.0076 Acc: 0.9894 : 100%|██████████| 1000/1000 [01:52<00:00,  9.02it/s]\n",
      "Test : 30 Loss: 0.0114 Acc: 0.9846 : 100%|██████████| 100/100 [00:05<00:00, 17.36it/s]\n"
     ]
    }
   ],
   "source": []
  },
  {
   "cell_type": "code",
   "execution_count": 11,
   "metadata": {
    "ExecuteTime": {
     "end_time": "2019-06-18T12:48:21.757260Z",
     "start_time": "2019-06-18T12:18:50.676872Z"
    }
   },
   "outputs": [
    {
     "name": "stderr",
     "output_type": "stream",
     "text": [
      "Epoch: 1 Loss: 0.0045 Acc: 0.9938 : 100%|██████████| 1000/1000 [01:52<00:00,  8.96it/s]\n",
      "Test : 1 Loss: 0.0044 Acc: 0.9944 : 100%|██████████| 100/100 [00:05<00:00, 17.20it/s]\n",
      "Epoch: 2 Loss: 0.0039 Acc: 0.9935 : 100%|██████████| 1000/1000 [01:52<00:00,  8.94it/s]\n",
      "Test : 2 Loss: 0.0040 Acc: 0.9943 : 100%|██████████| 100/100 [00:05<00:00, 17.47it/s]\n",
      "Epoch: 3 Loss: 0.0047 Acc: 0.9948 : 100%|██████████| 1000/1000 [01:52<00:00,  9.09it/s]\n",
      "Test : 3 Loss: 0.0043 Acc: 0.9941 : 100%|██████████| 100/100 [00:05<00:00, 17.12it/s]\n",
      "Epoch: 4 Loss: 0.0049 Acc: 0.9935 : 100%|██████████| 1000/1000 [01:52<00:00,  9.08it/s]\n",
      "Test : 4 Loss: 0.0050 Acc: 0.9941 : 100%|██████████| 100/100 [00:05<00:00, 17.33it/s]\n",
      "Epoch: 5 Loss: 0.0033 Acc: 0.9951 : 100%|██████████| 1000/1000 [01:52<00:00,  9.11it/s]\n",
      "Test : 5 Loss: 0.0047 Acc: 0.9937 : 100%|██████████| 100/100 [00:05<00:00, 26.28it/s]\n",
      "Epoch: 6 Loss: 0.0029 Acc: 0.9959 : 100%|██████████| 1000/1000 [01:52<00:00,  8.84it/s]\n",
      "Test : 6 Loss: 0.0037 Acc: 0.9960 : 100%|██████████| 100/100 [00:05<00:00, 25.36it/s]\n",
      "Epoch: 7 Loss: 0.0030 Acc: 0.9969 : 100%|██████████| 1000/1000 [01:52<00:00,  8.91it/s]\n",
      "Test : 7 Loss: 0.0039 Acc: 0.9953 : 100%|██████████| 100/100 [00:05<00:00, 26.32it/s]\n",
      "Epoch: 8 Loss: 0.0049 Acc: 0.9938 : 100%|██████████| 1000/1000 [01:52<00:00,  8.91it/s]\n",
      "Test : 8 Loss: 0.0036 Acc: 0.9949 : 100%|██████████| 100/100 [00:05<00:00, 26.22it/s]\n",
      "Epoch: 9 Loss: 0.0026 Acc: 0.9967 : 100%|██████████| 1000/1000 [01:52<00:00,  8.84it/s]\n",
      "Test : 9 Loss: 0.0041 Acc: 0.9948 : 100%|██████████| 100/100 [00:05<00:00, 17.29it/s]\n",
      "Epoch: 10 Loss: 0.0025 Acc: 0.9975 : 100%|██████████| 1000/1000 [01:52<00:00,  8.86it/s]\n",
      "Test : 10 Loss: 0.0026 Acc: 0.9963 : 100%|██████████| 100/100 [00:05<00:00, 17.10it/s]\n",
      "Epoch: 11 Loss: 0.0053 Acc: 0.9942 : 100%|██████████| 1000/1000 [01:52<00:00,  8.96it/s]\n",
      "Test : 11 Loss: 0.0030 Acc: 0.9959 : 100%|██████████| 100/100 [00:05<00:00, 24.42it/s]\n",
      "Epoch: 12 Loss: 0.0021 Acc: 0.9974 : 100%|██████████| 1000/1000 [01:52<00:00,  8.66it/s]\n",
      "Test : 12 Loss: 0.0028 Acc: 0.9964 : 100%|██████████| 100/100 [00:05<00:00, 26.51it/s]\n",
      "Epoch: 13 Loss: 0.0027 Acc: 0.9960 : 100%|██████████| 1000/1000 [01:52<00:00,  8.95it/s]\n",
      "Test : 13 Loss: 0.0037 Acc: 0.9946 : 100%|██████████| 100/100 [00:05<00:00, 24.82it/s]\n",
      "Epoch: 14 Loss: 0.0073 Acc: 0.9905 : 100%|██████████| 1000/1000 [01:52<00:00,  8.89it/s]\n",
      "Test : 14 Loss: 0.0042 Acc: 0.9945 : 100%|██████████| 100/100 [00:05<00:00, 17.40it/s]\n",
      "Epoch: 15 Loss: 0.0019 Acc: 0.9971 : 100%|██████████| 1000/1000 [01:52<00:00,  8.99it/s]\n",
      "Test : 15 Loss: 0.0034 Acc: 0.9957 : 100%|██████████| 100/100 [00:05<00:00, 17.38it/s]\n"
     ]
    }
   ],
   "source": [
    "optimizer = torch.optim.Adam(model.parameters(), 1e-4, amsgrad=True)\n",
    "epochs = 15\n",
    "for epoch in range(1, epochs + 1):\n",
    "    train(model, optimizer, epoch, train_loader)\n",
    "    valid(model, optimizer, epoch, valid_loader)"
   ]
  },
  {
   "cell_type": "markdown",
   "metadata": {},
   "source": [
    "# 测试模型输出"
   ]
  },
  {
   "cell_type": "code",
   "execution_count": 13,
   "metadata": {
    "ExecuteTime": {
     "end_time": "2019-06-18T12:48:58.168479Z",
     "start_time": "2019-06-18T12:48:57.536996Z"
    },
    "scrolled": false
   },
   "outputs": [
    {
     "name": "stdout",
     "output_type": "stream",
     "text": [
      "true: DYE8\n",
      "pred: DYE8\n",
      "true: BMRV\n",
      "pred: BMRV\n",
      "true: 9NPM\n",
      "pred: 9NPM\n",
      "true: CCVM\n",
      "pred: CCVM\n",
      "true: QN7Z\n",
      "pred: QN7Z\n",
      "true: PGK1\n",
      "pred: PGK1\n",
      "true: 4SIU\n",
      "pred: 4SIU\n",
      "true: A662\n",
      "pred: A662\n",
      "true: KLUM\n",
      "pred: KLUM\n",
      "true: NOFK\n",
      "pred: NOFK\n",
      "true: MAIR\n",
      "pred: MAIR\n",
      "true: BOXU\n",
      "pred: BOXU\n",
      "true: OA18\n",
      "pred: OA18\n",
      "true: FQEK\n",
      "pred: FQEK\n",
      "true: UIED\n",
      "pred: UIED\n",
      "true: Y4MR\n",
      "pred: Y4MR\n",
      "true: SZXQ\n",
      "pred: SZXQ\n",
      "true: 5OND\n",
      "pred: 5OND\n",
      "true: 3HEP\n",
      "pred: 3HEP\n",
      "true: IKJ8\n",
      "pred: IKJ8\n",
      "true: LTWA\n",
      "pred: LTWA\n",
      "true: K5O7\n",
      "pred: K5O7\n",
      "true: 4R71\n",
      "pred: 4R71\n",
      "true: JL3Z\n",
      "pred: JL3Z\n",
      "true: ER9Z\n",
      "pred: ER9Z\n",
      "true: EZ1S\n",
      "pred: EZ1S\n",
      "true: EGKF\n",
      "pred: EGKF\n",
      "true: XF0X\n",
      "pred: XF0X\n",
      "true: Z8P4\n",
      "pred: Z8P4\n",
      "true: ADCK\n",
      "pred: ADCK\n",
      "true: B1K0\n",
      "pred: B1K0\n",
      "true: D8KG\n",
      "pred: D8KG\n",
      "true: XPTH\n",
      "pred: XPTH\n",
      "true: T1ZY\n",
      "pred: T1ZY\n",
      "true: 8WG5\n",
      "pred: 8WG5\n",
      "true: P7RV\n",
      "pred: P7RV\n",
      "true: 0HLH\n",
      "pred: 0HLH\n",
      "true: U0AG\n",
      "pred: U0AG\n",
      "true: 56PK\n",
      "pred: 56PK\n",
      "true: 6IJG\n",
      "pred: 6IJG\n",
      "true: 2FN2\n",
      "pred: 2FN2\n",
      "true: 7QNI\n",
      "pred: 7QNI\n",
      "true: OKZH\n",
      "pred: OKZH\n",
      "true: 1DI8\n",
      "pred: 1DI8\n",
      "true: 62T2\n",
      "pred: 62T2\n",
      "true: 85ET\n",
      "pred: 85ET\n",
      "true: PDBO\n",
      "pred: PDBO\n",
      "true: 0MJD\n",
      "pred: 0MJD\n",
      "true: U9YB\n",
      "pred: U9YB\n",
      "true: 6ZOK\n",
      "pred: 6ZOK\n",
      "true: B5PR\n",
      "pred: B5PR\n",
      "true: A3MI\n",
      "pred: A3MI\n",
      "true: X39Z\n",
      "pred: X39Z\n",
      "true: SVRY\n",
      "pred: SVRY\n",
      "true: 96L9\n",
      "pred: 96L9\n",
      "true: 2EL3\n",
      "pred: 2EL3\n",
      "true: VT0O\n",
      "pred: VT0O\n",
      "true: QWC5\n",
      "pred: QWC5\n",
      "true: OP3I\n",
      "pred: OP3I\n",
      "true: 570W\n",
      "pred: 570W\n",
      "true: OR0F\n",
      "pred: OR0F\n",
      "true: X65U\n",
      "pred: X65U\n",
      "true: 7W02\n",
      "pred: 7W02\n",
      "true: QK4Y\n",
      "pred: QK4Y\n",
      "true: SU5B\n",
      "pred: SU5B\n",
      "true: 1WK1\n",
      "pred: 1WK1\n",
      "true: M1K0\n",
      "pred: M1K0\n",
      "true: NYVL\n",
      "pred: NYVL\n",
      "true: ZQTO\n",
      "pred: ZQTO\n",
      "true: IL3Z\n",
      "pred: IL3Z\n",
      "true: VGEL\n",
      "pred: VGEL\n",
      "true: 89NK\n",
      "pred: 89NK\n",
      "true: EFW8\n",
      "pred: EFW8\n",
      "true: RR68\n",
      "pred: RR68\n",
      "true: PKIS\n",
      "pred: PKIS\n",
      "true: 5OA9\n",
      "pred: 5OA9\n",
      "true: SWTO\n",
      "pred: SWTO\n",
      "true: F4GT\n",
      "pred: F4GT\n",
      "true: MMHS\n",
      "pred: MMHS\n",
      "true: 5FGG\n",
      "pred: 5FGG\n",
      "true: VKNL\n",
      "pred: VKNL\n",
      "true: F84U\n",
      "pred: F84U\n",
      "true: EK0H\n",
      "pred: EK0H\n",
      "true: 1LNW\n",
      "pred: 1LNW\n",
      "true: GIYU\n",
      "pred: GIYU\n",
      "true: UHEI\n",
      "pred: UHEI\n",
      "true: V7XJ\n",
      "pred: V7XJ\n",
      "true: SWA9\n",
      "pred: SWA9\n",
      "true: S7AL\n",
      "pred: S7AL\n",
      "true: UKV3\n",
      "pred: UKV3\n",
      "true: 5NON\n",
      "pred: 5NON\n",
      "true: 2QF3\n",
      "pred: 2QF3\n",
      "true: 5891\n",
      "pred: 5891\n",
      "true: R7SM\n",
      "pred: R7SM\n",
      "true: U0AD\n",
      "pred: UOAD\n"
     ]
    },
    {
     "data": {
      "image/png": "[encoded data removed]",
      "text/plain": [
       "<PIL.Image.Image image mode=RGB size=192x64 at 0x7F203C928550>"
      ]
     },
     "execution_count": 13,
     "metadata": {},
     "output_type": "execute_result"
    }
   ],
   "source": [
    "model.eval()\n",
    "do = True\n",
    "while do or decode_target(target) == decode(output_argmax[0]):\n",
    "    do = False\n",
    "    image, target, input_length, label_length = dataset[0]\n",
    "    print('true:', decode_target(target))\n",
    "\n",
    "    output = model(image.unsqueeze(0).cuda())\n",
    "    output_argmax = output.detach().permute(1, 0, 2).argmax(dim=-1)\n",
    "    print('pred:', decode(output_argmax[0]))\n",
    "to_pil_image(image)"
   ]
  },
  {
   "cell_type": "code",
   "execution_count": 15,
   "metadata": {
    "ExecuteTime": {
     "end_time": "2019-06-18T12:49:28.691803Z",
     "start_time": "2019-06-18T12:49:28.645668Z"
    }
   },
   "outputs": [
    {
     "name": "stderr",
     "output_type": "stream",
     "text": [
      "/home/ubuntu/anaconda3/envs/pytorch_p36/lib/python3.6/site-packages/torch/serialization.py:256: UserWarning: Couldn't retrieve source code for container of type Model. It won't be checked for correctness upon loading.\n",
      "  \"type \" + obj.__name__ + \". It won't be checked \"\n"
     ]
    }
   ],
   "source": [
    "torch.save(model, 'ctc.pth')"
   ]
  },
  {
   "cell_type": "code",
   "execution_count": null,
   "metadata": {},
   "outputs": [],
   "source": []
  }
 ],
 "metadata": {
  "kernelspec": {
   "display_name": "Python 3",
   "language": "python",
   "name": "python3"
  },
  "language_info": {
   "codemirror_mode": {
    "name": "ipython",
    "version": 3
   },
   "file_extension": ".py",
   "mimetype": "text/x-python",
   "name": "python",
   "nbconvert_exporter": "python",
   "pygments_lexer": "ipython3",
   "version": "3.7.3"
  }
 },
 "nbformat": 4,
 "nbformat_minor": 2
}
